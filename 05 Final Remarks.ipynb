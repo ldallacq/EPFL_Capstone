{
 "cells": [
  {
   "cell_type": "markdown",
   "metadata": {},
   "source": [
    "# Final Remarks"
   ]
  },
  {
   "cell_type": "markdown",
   "metadata": {},
   "source": [
    "In this project I have investigated the patterns of conversation on Twitter for four different social media icons, gaining a broad understanding of their communicational habits and particularities. \n",
    "\n",
    "I have also built several classifiers based on diverse statistical approaches, with different levels of text analytics and features engineered. \n",
    "\n",
    "Despite this course did not cover NLP techniques and text analytics throughly I believe I was put in the condition to still investigate on my own online and with free courses/blogs/GitHub/Kaggle competitions and be able to use simple techniques and libraries, all this autonmously. I consider this an enormous achievement. \n",
    "\n",
    "Most importantly, even though the models built actually gave quite good results, I am very satisfied of the overall look of the project and its development (from a simple idea to a very complex structure of trial&error in machine learning). \n",
    "\n",
    "Lastly, I quite enjoyed working on this project and I do have many ideas to improve it further (see next paragraph).  "
   ]
  },
  {
   "cell_type": "markdown",
   "metadata": {},
   "source": [
    "# Things I could improve / try "
   ]
  },
  {
   "cell_type": "markdown",
   "metadata": {},
   "source": [
    "Initially in this project I have manually created a handful of basic features (e.g. likes, retweets, hashtags, etc). I did not spend too much time in creating these features as I thought they did not have predicting power (I was wrong!) and I invested much more time in Topic Modelling. \n",
    "\n",
    "One thing I could do is actually spend more time by improving these basic features, by adding for example: \n",
    "\n",
    "* the number of websites referenced\n",
    "* the number of punctuation used\n",
    "* the total characters (without the count of emojis)\n",
    "* the total number of words (without the emojis, hashtags etc)\n",
    "\n",
    "Indeed, I have proven that a Random Forest on these fetaures is sufficiently good (Accuracy of 69%) and perhaps could be improved more (afterall, this is a light model and does not require lot of time to run!). \n",
    "\n",
    "On the opposite side of going 'simpler', I could be working on a much more complex neural network model, by using Recurrent Neural Network (RNN) or Long Short Term Memory (LSTM). Indeed in my models I am not taking into consideration the patterns of usage of words, which could actually be very important. RNN, at a first glance, should give the opportunity to understand the blocks of text that are linked to each other's chain. Having said this, I am not dead sure that this will improve the results as Twitter data is not like free speech or anything like a text in a book (on the contrary it looks much more random!). \n",
    "\n",
    "Unfortunately I did not have time to investigate neither of the 2 options, with the hope that in the future I will be exploring them! \n",
    "\n",
    "\n",
    "I hope you enjoyed the project!"
   ]
  },
  {
   "cell_type": "markdown",
   "metadata": {},
   "source": [
    "# Resources taken into consideration for this project (non-extensive list)\n",
    "\n",
    "#### Topic Modelling \n",
    "* https://www.machinelearningplus.com/nlp/topic-modeling-gensim-python/ --> step by step doing topic modelling I used\n",
    "* https://medium.com/nanonets/topic-modeling-with-lsa-psla-lda-and-lda2vec-555ff65b0b05    \n",
    "* https://towardsdatascience.com/end-to-end-topic-modeling-in-python-latent-dirichlet-allocation-lda-35ce4ed6b3e0\n",
    "* https://radimrehurek.com/gensim/models/lsimodel.html\n",
    "* https://towardsdatascience.com/topic-modelling-in-python-with-nltk-and-gensim-4ef03213cd21\n",
    "* https://www.machinelearningplus.com/nlp/topic-modeling-gensim-python/\n",
    "* https://towardsdatascience.com/unsupervised-nlp-topic-models-as-a-supervised-learning-input-cf8ee9e5cf28\n",
    "* https://medium.com/@oyewusiwuraola/exploring-topic-modelling-with-gensim-on-the-essential-science-indicators-journals-list-1dc4d9f96d9c\n",
    "* https://www.youtube.com/watch?v=DDq3OVp9dNA\n",
    "* https://www.analyticssteps.com/blogs/introduction-latent-semantic-analysis-lsa-and-latent-dirichlet-allocation-lda\n",
    "* https://datascienceplus.com/evaluation-of-topic-modeling-topic-coherence/\n",
    "* https://www.youtube.com/watch?v=DDq3OVp9dNA\n",
    "* https://www.analyticssteps.com/blogs/introduction-latent-semantic-analysis-lsa-and-latent-dirichlet-allocation-lda\n",
    "* https://www.popwebdesign.net/popart_blog/en/2018/07/latent-semantic-indexing/\n",
    "* https://www.kaggle.com/rcushen/topic-modelling-with-lsa-and-lda\n",
    "* https://towardsdatascience.com/2-latent-methods-for-dimension-reduction-and-topic-modeling-20ff6d7d547#:~:text=Both%20LSA%20and%20LDA%20have,LDA%20solves%20topic%20modeling%20problems\n",
    "* https://towardsdatascience.com/topic-modeling-of-2019-hr-tech-conference-twitter-d16cf75895b6\n",
    "* https://medium.com/@cmukesh8688/tf-idf-vectorizer-scikit-learn-dbc0244a911a\n",
    "* https://github.com/markroxor/gensim/blob/develop/gensim%20Quick%20Start.ipynb\n",
    "\n",
    "#### Sentiment \n",
    "* https://t-redactyl.io/blog/2017/04/using-vader-to-handle-sentiment-analysis-with-social-media-text.html\n",
    "* https://theappsolutions.com/blog/development/sentiment-analysis/\n",
    "* https://towardsdatascience.com/sentimental-analysis-using-vader-a3415fef7664\n",
    "* https://medium.com/analytics-vidhya/simplifying-social-media-sentiment-analysis-using-vader-in-python-f9e6ec6fc52f\n",
    "* https://www.geeksforgeeks.org/python-sentiment-analysis-using-vader/\n",
    "* https://python-bloggers.com/2020/10/how-to-run-sentiment-analysis-in-python-using-vader/\n",
    "* http://comp.social.gatech.edu/papers/icwsm14.vader.hutto.pdf \n",
    "\n",
    "#### Truncated SVD & Dimensionality reduction \n",
    "* https://towardsdatascience.com/latent-semantic-analysis-intuition-math-implementation-a194aff870f8\n",
    "* https://scikit-learn.org/stable/modules/generated/sklearn.decomposition.TruncatedSVD.html\n",
    "* https://github.com/Ioana-P/pca_and_clustering_for_edu_purposes/blob/master/newsgroups_LSA.ipynb\n",
    "* https://vitalv.github.io/projects/doc-clustering-topic-modeling.html\n",
    "* https://umap-learn.readthedocs.io/en/latest/sparse.html\n",
    "* https://umap-learn.readthedocs.io/en/latest/document_embedding.html\n",
    "* https://github.com/Ioana-P/pca_and_clustering_for_edu_purposes/blob/master/newsgroups_LSA.ipynb \n",
    "* https://www.machinelearningplus.com/nlp/topic-modeling-python-sklearn-examples/\n",
    "\n",
    "#### Auto ML\n",
    "* https://machinelearningmastery.com/tpot-for-automated-machine-learning-in-python/\n",
    "* http://epistasislab.github.io/tpot/\n",
    "* https://towardsdatascience.com/tpot-automated-machine-learning-in-python-4c063b3e5de9\n",
    "* http://epistasislab.github.io/tpot/using/\n",
    "* https://docs.uipath.com/ai-fabric/docs/tpot-automl-classification\n",
    "* https://medium.com/rapids-ai/faster-automl-with-tpot-and-rapids-758455cd89e5\n",
    "\n",
    "#### AutoKeras\n",
    "* https://machinelearningmastery.com/autokeras-for-classification-and-regression/\n",
    "* https://realpython.com/python-keras-text-classification/\n",
    "* https://autokeras.com/tutorial/text_classification/\n",
    "* https://towardsdatascience.com/https-medium-com-piercarlo-slavazza-what-is-the-best-method-for-automatic-text-classification-a01d4dfadd\n",
    "* https://www.opencodez.com/how-to-guide/text-classification-using-keras.htm\n"
   ]
  },
  {
   "cell_type": "code",
   "execution_count": null,
   "metadata": {},
   "outputs": [],
   "source": []
  }
 ],
 "metadata": {
  "kernelspec": {
   "display_name": "Python 3",
   "language": "python",
   "name": "python3"
  },
  "language_info": {
   "codemirror_mode": {
    "name": "ipython",
    "version": 3
   },
   "file_extension": ".py",
   "mimetype": "text/x-python",
   "name": "python",
   "nbconvert_exporter": "python",
   "pygments_lexer": "ipython3",
   "version": "3.8.3"
  }
 },
 "nbformat": 4,
 "nbformat_minor": 4
}
