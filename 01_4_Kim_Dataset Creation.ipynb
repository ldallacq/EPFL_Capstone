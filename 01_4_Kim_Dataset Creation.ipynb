{
 "cells": [
  {
   "cell_type": "markdown",
   "metadata": {},
   "source": [
    "# KIM KARDASHIAN DATASET CREATION"
   ]
  },
  {
   "cell_type": "code",
   "execution_count": 1,
   "metadata": {},
   "outputs": [],
   "source": [
    "import pandas as pd"
   ]
  },
  {
   "cell_type": "markdown",
   "metadata": {},
   "source": [
    "### Scraping Twitter "
   ]
  },
  {
   "cell_type": "code",
   "execution_count": 2,
   "metadata": {},
   "outputs": [],
   "source": [
    "import snscrape.modules.twitter as sntwitter\n",
    "import csv\n",
    "maxTweets = 40000\n",
    "\n",
    "csvFile = open('Kim.csv', 'a', newline='', encoding='utf8')\n",
    "\n",
    "csvWriter = csv.writer(csvFile)\n",
    "csvWriter.writerow(['id','date','tweet',])\n",
    "\n",
    "for i,tweet in enumerate(sntwitter.TwitterSearchScraper('from:@KimKardashian until:2020-11-01-filter:replies').get_items()):\n",
    "    if i > maxTweets :\n",
    "        break\n",
    "    csvWriter.writerow([tweet.id, tweet.date, tweet.content])\n",
    "\n",
    "csvFile.close()"
   ]
  },
  {
   "cell_type": "code",
   "execution_count": 3,
   "metadata": {},
   "outputs": [
    {
     "data": {
      "text/plain": [
       "(29114, 3)"
      ]
     },
     "execution_count": 3,
     "metadata": {},
     "output_type": "execute_result"
    }
   ],
   "source": [
    "kim = pd.read_csv('Kim.csv')\n",
    "kim.shape"
   ]
  },
  {
   "cell_type": "code",
   "execution_count": 4,
   "metadata": {},
   "outputs": [
    {
     "data": {
      "text/plain": [
       "(29114, 3)"
      ]
     },
     "execution_count": 4,
     "metadata": {},
     "output_type": "execute_result"
    }
   ],
   "source": [
    "kim = kim.drop_duplicates(subset = 'id')\n",
    "kim.shape"
   ]
  },
  {
   "cell_type": "code",
   "execution_count": 6,
   "metadata": {},
   "outputs": [],
   "source": [
    "kim.date = pd.to_datetime(kim.date)"
   ]
  },
  {
   "cell_type": "code",
   "execution_count": 7,
   "metadata": {},
   "outputs": [
    {
     "data": {
      "text/plain": [
       "date\n",
       "2008       1\n",
       "2009    2738\n",
       "2010    3431\n",
       "2011    3745\n",
       "2012    4284\n",
       "2013    2296\n",
       "2014    1887\n",
       "2015    2069\n",
       "2016    1581\n",
       "2017    1845\n",
       "2018    2147\n",
       "2019    1669\n",
       "2020    1421\n",
       "Name: id, dtype: int64"
      ]
     },
     "execution_count": 7,
     "metadata": {},
     "output_type": "execute_result"
    }
   ],
   "source": [
    "kim.groupby([kim['date'].dt.year])['id'].count()"
   ]
  },
  {
   "cell_type": "markdown",
   "metadata": {},
   "source": [
    "### Likes and Retweets"
   ]
  },
  {
   "cell_type": "code",
   "execution_count": 8,
   "metadata": {},
   "outputs": [],
   "source": [
    "links_to_scrape = kim['id'].tolist()"
   ]
  },
  {
   "cell_type": "code",
   "execution_count": 9,
   "metadata": {},
   "outputs": [],
   "source": [
    "total_count = len(links_to_scrape)\n",
    "chunks = (total_count - 1) // 50 + 1"
   ]
  },
  {
   "cell_type": "code",
   "execution_count": 10,
   "metadata": {},
   "outputs": [],
   "source": [
    "import tweepy\n",
    "\n",
    "consumer_key = \n",
    "consumer_secret = \n",
    "access_token = \n",
    "access_token_secret = \n",
    "auth = tweepy.OAuthHandler(consumer_key, consumer_secret) \n",
    "auth.set_access_token(access_token, access_token_secret)\n",
    "api = tweepy.API(auth)"
   ]
  },
  {
   "cell_type": "code",
   "execution_count": 11,
   "metadata": {},
   "outputs": [],
   "source": [
    "def fetch_tw(links_to_scrape):\n",
    "    \n",
    "    list_of_tw_status = api.statuses_lookup(links_to_scrape, tweet_mode= \"extended\")\n",
    "    \n",
    "    empty_data = pd.DataFrame()\n",
    "    \n",
    "    for status in list_of_tw_status:\n",
    "            tweet_elem = {\"tweet_id\": str(status.id),\n",
    "                          \"tweet\":status.full_text,\n",
    "                          'likes': status.favorite_count, \n",
    "                          'retweets': status.retweet_count,\n",
    "                          \"date\":status.created_at}\n",
    "            empty_data = empty_data.append(tweet_elem, ignore_index = True)\n",
    "            \n",
    "    empty_data.to_csv(\"kim_with_likes.csv\", mode=\"a\")"
   ]
  },
  {
   "cell_type": "code",
   "execution_count": 12,
   "metadata": {},
   "outputs": [],
   "source": [
    "for i in range(chunks):\n",
    "        batch = links_to_scrape[i*50:(i+1)*50]\n",
    "        result = fetch_tw(batch)"
   ]
  },
  {
   "cell_type": "code",
   "execution_count": 13,
   "metadata": {},
   "outputs": [],
   "source": [
    "kim_likes = pd.read_csv(\"kim_with_likes.csv\")"
   ]
  },
  {
   "cell_type": "code",
   "execution_count": 14,
   "metadata": {},
   "outputs": [
    {
     "data": {
      "text/plain": [
       "(29696, 6)"
      ]
     },
     "execution_count": 14,
     "metadata": {},
     "output_type": "execute_result"
    }
   ],
   "source": [
    "kim_likes.shape"
   ]
  },
  {
   "cell_type": "code",
   "execution_count": 15,
   "metadata": {},
   "outputs": [
    {
     "data": {
      "text/html": [
       "<div>\n",
       "<style scoped>\n",
       "    .dataframe tbody tr th:only-of-type {\n",
       "        vertical-align: middle;\n",
       "    }\n",
       "\n",
       "    .dataframe tbody tr th {\n",
       "        vertical-align: top;\n",
       "    }\n",
       "\n",
       "    .dataframe thead th {\n",
       "        text-align: right;\n",
       "    }\n",
       "</style>\n",
       "<table border=\"1\" class=\"dataframe\">\n",
       "  <thead>\n",
       "    <tr style=\"text-align: right;\">\n",
       "      <th></th>\n",
       "      <th>Unnamed: 0</th>\n",
       "      <th>date</th>\n",
       "      <th>likes</th>\n",
       "      <th>retweets</th>\n",
       "      <th>tweet</th>\n",
       "      <th>tweet_id</th>\n",
       "    </tr>\n",
       "  </thead>\n",
       "  <tbody>\n",
       "    <tr>\n",
       "      <th>0</th>\n",
       "      <td>0.0</td>\n",
       "      <td>2020-10-30 00:22:22</td>\n",
       "      <td>1419.0</td>\n",
       "      <td>29.0</td>\n",
       "      <td>🤣🤣 https://t.co/FwPbYzIsZ6</td>\n",
       "      <td>1321970667424808960</td>\n",
       "    </tr>\n",
       "    <tr>\n",
       "      <th>1</th>\n",
       "      <td>1.0</td>\n",
       "      <td>2020-10-29 23:56:45</td>\n",
       "      <td>4027.0</td>\n",
       "      <td>76.0</td>\n",
       "      <td>I’m here early! I can’t wait to live tweet wit...</td>\n",
       "      <td>1321964221261881349</td>\n",
       "    </tr>\n",
       "    <tr>\n",
       "      <th>2</th>\n",
       "      <td>2.0</td>\n",
       "      <td>2020-10-30 20:03:58</td>\n",
       "      <td>67849.0</td>\n",
       "      <td>1591.0</td>\n",
       "      <td>🌊 https://t.co/fNADkPQgTl</td>\n",
       "      <td>1322268024649342976</td>\n",
       "    </tr>\n",
       "    <tr>\n",
       "      <th>3</th>\n",
       "      <td>3.0</td>\n",
       "      <td>2020-10-26 16:01:19</td>\n",
       "      <td>6183.0</td>\n",
       "      <td>143.0</td>\n",
       "      <td>JUST DROPPED: @SKIMS Stretch Velvet — barely-t...</td>\n",
       "      <td>1320757409934123010</td>\n",
       "    </tr>\n",
       "    <tr>\n",
       "      <th>4</th>\n",
       "      <td>4.0</td>\n",
       "      <td>2020-10-29 19:58:56</td>\n",
       "      <td>11541.0</td>\n",
       "      <td>314.0</td>\n",
       "      <td>Night Swim https://t.co/GGjB8w2Kp3</td>\n",
       "      <td>1321904372624855041</td>\n",
       "    </tr>\n",
       "    <tr>\n",
       "      <th>5</th>\n",
       "      <td>5.0</td>\n",
       "      <td>2020-10-30 00:16:52</td>\n",
       "      <td>1201.0</td>\n",
       "      <td>28.0</td>\n",
       "      <td>It was hard in the beginning but our film crew...</td>\n",
       "      <td>1321969281681207296</td>\n",
       "    </tr>\n",
       "    <tr>\n",
       "      <th>6</th>\n",
       "      <td>6.0</td>\n",
       "      <td>2020-10-30 20:03:28</td>\n",
       "      <td>64653.0</td>\n",
       "      <td>2395.0</td>\n",
       "      <td>🌊 https://t.co/eJifPRYMef</td>\n",
       "      <td>1322267899763961856</td>\n",
       "    </tr>\n",
       "    <tr>\n",
       "      <th>7</th>\n",
       "      <td>7.0</td>\n",
       "      <td>2020-10-29 23:23:48</td>\n",
       "      <td>57573.0</td>\n",
       "      <td>3267.0</td>\n",
       "      <td>I can’t even describe what this meant to me an...</td>\n",
       "      <td>1321955928522944513</td>\n",
       "    </tr>\n",
       "    <tr>\n",
       "      <th>8</th>\n",
       "      <td>8.0</td>\n",
       "      <td>2020-10-29 19:57:51</td>\n",
       "      <td>9608.0</td>\n",
       "      <td>234.0</td>\n",
       "      <td>Night Swim https://t.co/C1BtTkE1wK</td>\n",
       "      <td>1321904100380971013</td>\n",
       "    </tr>\n",
       "    <tr>\n",
       "      <th>9</th>\n",
       "      <td>9.0</td>\n",
       "      <td>2020-10-30 00:33:16</td>\n",
       "      <td>59.0</td>\n",
       "      <td>4.0</td>\n",
       "      <td>@planetKourt Have a good night!</td>\n",
       "      <td>1321973410843496448</td>\n",
       "    </tr>\n",
       "  </tbody>\n",
       "</table>\n",
       "</div>"
      ],
      "text/plain": [
       "   Unnamed: 0                 date    likes retweets  \\\n",
       "0         0.0  2020-10-30 00:22:22   1419.0     29.0   \n",
       "1         1.0  2020-10-29 23:56:45   4027.0     76.0   \n",
       "2         2.0  2020-10-30 20:03:58  67849.0   1591.0   \n",
       "3         3.0  2020-10-26 16:01:19   6183.0    143.0   \n",
       "4         4.0  2020-10-29 19:58:56  11541.0    314.0   \n",
       "5         5.0  2020-10-30 00:16:52   1201.0     28.0   \n",
       "6         6.0  2020-10-30 20:03:28  64653.0   2395.0   \n",
       "7         7.0  2020-10-29 23:23:48  57573.0   3267.0   \n",
       "8         8.0  2020-10-29 19:57:51   9608.0    234.0   \n",
       "9         9.0  2020-10-30 00:33:16     59.0      4.0   \n",
       "\n",
       "                                               tweet             tweet_id  \n",
       "0                         🤣🤣 https://t.co/FwPbYzIsZ6  1321970667424808960  \n",
       "1  I’m here early! I can’t wait to live tweet wit...  1321964221261881349  \n",
       "2                          🌊 https://t.co/fNADkPQgTl  1322268024649342976  \n",
       "3  JUST DROPPED: @SKIMS Stretch Velvet — barely-t...  1320757409934123010  \n",
       "4                 Night Swim https://t.co/GGjB8w2Kp3  1321904372624855041  \n",
       "5  It was hard in the beginning but our film crew...  1321969281681207296  \n",
       "6                          🌊 https://t.co/eJifPRYMef  1322267899763961856  \n",
       "7  I can’t even describe what this meant to me an...  1321955928522944513  \n",
       "8                 Night Swim https://t.co/C1BtTkE1wK  1321904100380971013  \n",
       "9                    @planetKourt Have a good night!  1321973410843496448  "
      ]
     },
     "execution_count": 15,
     "metadata": {},
     "output_type": "execute_result"
    }
   ],
   "source": [
    "kim_likes.head(10)"
   ]
  },
  {
   "cell_type": "code",
   "execution_count": 16,
   "metadata": {},
   "outputs": [
    {
     "data": {
      "text/plain": [
       "(29115, 6)"
      ]
     },
     "execution_count": 16,
     "metadata": {},
     "output_type": "execute_result"
    }
   ],
   "source": [
    "kim_likes = kim_likes.drop_duplicates()\n",
    "kim_likes.shape"
   ]
  },
  {
   "cell_type": "code",
   "execution_count": null,
   "metadata": {},
   "outputs": [],
   "source": []
  }
 ],
 "metadata": {
  "kernelspec": {
   "display_name": "Python 3",
   "language": "python",
   "name": "python3"
  },
  "language_info": {
   "codemirror_mode": {
    "name": "ipython",
    "version": 3
   },
   "file_extension": ".py",
   "mimetype": "text/x-python",
   "name": "python",
   "nbconvert_exporter": "python",
   "pygments_lexer": "ipython3",
   "version": "3.8.3"
  }
 },
 "nbformat": 4,
 "nbformat_minor": 4
}
