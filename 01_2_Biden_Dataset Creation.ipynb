{
 "cells": [
  {
   "cell_type": "markdown",
   "metadata": {},
   "source": [
    "# BIDEN DATASET CREATION"
   ]
  },
  {
   "cell_type": "markdown",
   "metadata": {},
   "source": [
    "For Joe Biden dataset creation I have initially found a pool of Tweets from Kaggle: \n",
    "\n",
    "https://www.kaggle.com/rohanrao/joe-biden-tweets\n",
    "    \n",
    "This file contains Joe Biden's tweets from 24th October 2007 to 31st October 2020, which is in line with the initial idea of scraping as much content possibile for each of the personas. "
   ]
  },
  {
   "cell_type": "code",
   "execution_count": 1,
   "metadata": {},
   "outputs": [],
   "source": [
    "import pandas as pd"
   ]
  },
  {
   "cell_type": "code",
   "execution_count": 3,
   "metadata": {},
   "outputs": [],
   "source": [
    "df = pd.read_csv(\"Biden.csv\")"
   ]
  },
  {
   "cell_type": "code",
   "execution_count": 4,
   "metadata": {},
   "outputs": [
    {
     "data": {
      "text/plain": [
       "(6064, 8)"
      ]
     },
     "execution_count": 4,
     "metadata": {},
     "output_type": "execute_result"
    }
   ],
   "source": [
    "df.shape"
   ]
  },
  {
   "cell_type": "code",
   "execution_count": 5,
   "metadata": {},
   "outputs": [
    {
     "data": {
      "text/html": [
       "<div>\n",
       "<style scoped>\n",
       "    .dataframe tbody tr th:only-of-type {\n",
       "        vertical-align: middle;\n",
       "    }\n",
       "\n",
       "    .dataframe tbody tr th {\n",
       "        vertical-align: top;\n",
       "    }\n",
       "\n",
       "    .dataframe thead th {\n",
       "        text-align: right;\n",
       "    }\n",
       "</style>\n",
       "<table border=\"1\" class=\"dataframe\">\n",
       "  <thead>\n",
       "    <tr style=\"text-align: right;\">\n",
       "      <th></th>\n",
       "      <th>id</th>\n",
       "      <th>timestamp</th>\n",
       "      <th>url</th>\n",
       "      <th>tweet</th>\n",
       "      <th>replies</th>\n",
       "      <th>retweets</th>\n",
       "      <th>quotes</th>\n",
       "      <th>likes</th>\n",
       "    </tr>\n",
       "  </thead>\n",
       "  <tbody>\n",
       "    <tr>\n",
       "      <th>0</th>\n",
       "      <td>361388562</td>\n",
       "      <td>2007-10-24 22:45</td>\n",
       "      <td>https://twitter.com/JoeBiden/status/361388562</td>\n",
       "      <td>Tune in 11:30 ET tomorrow for a live webcast o...</td>\n",
       "      <td>19</td>\n",
       "      <td>5</td>\n",
       "      <td>17</td>\n",
       "      <td>11</td>\n",
       "    </tr>\n",
       "    <tr>\n",
       "      <th>1</th>\n",
       "      <td>543984392</td>\n",
       "      <td>2007-12-29 15:35</td>\n",
       "      <td>https://twitter.com/JoeBiden/status/543984392</td>\n",
       "      <td>Iowans, there's a good chance there's a Biden ...</td>\n",
       "      <td>13</td>\n",
       "      <td>16</td>\n",
       "      <td>6</td>\n",
       "      <td>22</td>\n",
       "    </tr>\n",
       "    <tr>\n",
       "      <th>2</th>\n",
       "      <td>189287227321356289</td>\n",
       "      <td>2012-04-09 09:42</td>\n",
       "      <td>https://twitter.com/JoeBiden/status/1892872273...</td>\n",
       "      <td>We're excited to announce that @JoeBiden is be...</td>\n",
       "      <td>21</td>\n",
       "      <td>82</td>\n",
       "      <td>1</td>\n",
       "      <td>20</td>\n",
       "    </tr>\n",
       "    <tr>\n",
       "      <th>3</th>\n",
       "      <td>189287350034104320</td>\n",
       "      <td>2012-04-09 09:43</td>\n",
       "      <td>https://twitter.com/JoeBiden/status/1892873500...</td>\n",
       "      <td>Campaign staff will run this account to keep y...</td>\n",
       "      <td>144</td>\n",
       "      <td>76</td>\n",
       "      <td>37</td>\n",
       "      <td>51</td>\n",
       "    </tr>\n",
       "    <tr>\n",
       "      <th>4</th>\n",
       "      <td>189339650610036736</td>\n",
       "      <td>2012-04-09 13:11</td>\n",
       "      <td>https://twitter.com/JoeBiden/status/1893396506...</td>\n",
       "      <td>News for you this morning: VP Biden will speak...</td>\n",
       "      <td>10</td>\n",
       "      <td>54</td>\n",
       "      <td>0</td>\n",
       "      <td>5</td>\n",
       "    </tr>\n",
       "  </tbody>\n",
       "</table>\n",
       "</div>"
      ],
      "text/plain": [
       "                   id         timestamp  \\\n",
       "0           361388562  2007-10-24 22:45   \n",
       "1           543984392  2007-12-29 15:35   \n",
       "2  189287227321356289  2012-04-09 09:42   \n",
       "3  189287350034104320  2012-04-09 09:43   \n",
       "4  189339650610036736  2012-04-09 13:11   \n",
       "\n",
       "                                                 url  \\\n",
       "0      https://twitter.com/JoeBiden/status/361388562   \n",
       "1      https://twitter.com/JoeBiden/status/543984392   \n",
       "2  https://twitter.com/JoeBiden/status/1892872273...   \n",
       "3  https://twitter.com/JoeBiden/status/1892873500...   \n",
       "4  https://twitter.com/JoeBiden/status/1893396506...   \n",
       "\n",
       "                                               tweet  replies  retweets  \\\n",
       "0  Tune in 11:30 ET tomorrow for a live webcast o...       19         5   \n",
       "1  Iowans, there's a good chance there's a Biden ...       13        16   \n",
       "2  We're excited to announce that @JoeBiden is be...       21        82   \n",
       "3  Campaign staff will run this account to keep y...      144        76   \n",
       "4  News for you this morning: VP Biden will speak...       10        54   \n",
       "\n",
       "   quotes  likes  \n",
       "0      17     11  \n",
       "1       6     22  \n",
       "2       1     20  \n",
       "3      37     51  \n",
       "4       0      5  "
      ]
     },
     "execution_count": 5,
     "metadata": {},
     "output_type": "execute_result"
    }
   ],
   "source": [
    "df.head(5)"
   ]
  },
  {
   "cell_type": "code",
   "execution_count": 6,
   "metadata": {},
   "outputs": [],
   "source": [
    "df = df.drop_duplicates(subset ='id')"
   ]
  },
  {
   "cell_type": "markdown",
   "metadata": {},
   "source": [
    "### Likes and Retweets\n",
    "\n",
    "Even though in the original file I have donwloaded from Kaggle I do have some Likes and Retweets, I thought to try to scrape in any case these 2 metrics to see if there is any discrepancy in dataset, following the same procedure as for Kim, Elon and the Pope. "
   ]
  },
  {
   "cell_type": "code",
   "execution_count": 12,
   "metadata": {},
   "outputs": [],
   "source": [
    "links_to_scrape = df['id'].tolist()"
   ]
  },
  {
   "cell_type": "code",
   "execution_count": 16,
   "metadata": {},
   "outputs": [],
   "source": [
    "total_count = len(links_to_scrape)\n",
    "chunks = (total_count - 1) // 50 + 1"
   ]
  },
  {
   "cell_type": "code",
   "execution_count": 13,
   "metadata": {},
   "outputs": [],
   "source": [
    "import tweepy\n",
    "\n",
    "consumer_key = \n",
    "consumer_secret = \n",
    "access_token =  \n",
    "access_token_secret = \n",
    "auth = tweepy.OAuthHandler(consumer_key, consumer_secret) \n",
    "auth.set_access_token(access_token, access_token_secret)\n",
    "api = tweepy.API(auth)"
   ]
  },
  {
   "cell_type": "code",
   "execution_count": 14,
   "metadata": {},
   "outputs": [],
   "source": [
    "def fetch_tw(links_to_scrape):\n",
    "    \n",
    "    list_of_tw_status = api.statuses_lookup(links_to_scrape, tweet_mode= \"extended\")\n",
    "    \n",
    "    empty_data = pd.DataFrame()\n",
    "    \n",
    "    for status in list_of_tw_status:\n",
    "            tweet_elem = {\"tweet_id\": str(status.id),\n",
    "                          \"tweet\":status.full_text,\n",
    "                          'likes': status.favorite_count, \n",
    "                          'retweets': status.retweet_count,\n",
    "                          \"date\":status.created_at}\n",
    "            empty_data = empty_data.append(tweet_elem, ignore_index = True)\n",
    "            \n",
    "    empty_data.to_csv(\"biden_with_likes.csv\", mode=\"a\")"
   ]
  },
  {
   "cell_type": "code",
   "execution_count": 17,
   "metadata": {},
   "outputs": [],
   "source": [
    "for i in range(chunks):\n",
    "        batch = links_to_scrape[i*50:(i+1)*50]\n",
    "        result = fetch_tw(batch)"
   ]
  },
  {
   "cell_type": "code",
   "execution_count": 18,
   "metadata": {},
   "outputs": [],
   "source": [
    "biden_likes = pd.read_csv(\"biden_with_likes.csv\")"
   ]
  },
  {
   "cell_type": "code",
   "execution_count": 19,
   "metadata": {},
   "outputs": [
    {
     "data": {
      "text/plain": [
       "(6185, 6)"
      ]
     },
     "execution_count": 19,
     "metadata": {},
     "output_type": "execute_result"
    }
   ],
   "source": [
    "biden_likes.shape"
   ]
  },
  {
   "cell_type": "code",
   "execution_count": 20,
   "metadata": {},
   "outputs": [
    {
     "data": {
      "text/plain": [
       "(6065, 6)"
      ]
     },
     "execution_count": 20,
     "metadata": {},
     "output_type": "execute_result"
    }
   ],
   "source": [
    "biden_likes = biden_likes.drop_duplicates()\n",
    "biden_likes.shape"
   ]
  },
  {
   "cell_type": "code",
   "execution_count": null,
   "metadata": {},
   "outputs": [],
   "source": []
  }
 ],
 "metadata": {
  "kernelspec": {
   "display_name": "Python 3",
   "language": "python",
   "name": "python3"
  },
  "language_info": {
   "codemirror_mode": {
    "name": "ipython",
    "version": 3
   },
   "file_extension": ".py",
   "mimetype": "text/x-python",
   "name": "python",
   "nbconvert_exporter": "python",
   "pygments_lexer": "ipython3",
   "version": "3.8.3"
  }
 },
 "nbformat": 4,
 "nbformat_minor": 4
}
