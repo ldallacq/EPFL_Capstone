{
 "cells": [
  {
   "cell_type": "markdown",
   "metadata": {},
   "source": [
    "# Capstone project by LAURA DALL'ACQUA\n",
    "\n",
    "# Hello, who's talking? Trump or Biden?"
   ]
  },
  {
   "cell_type": "markdown",
   "metadata": {},
   "source": [
    "## THE IDEA \n",
    "\n",
    "* \"Make America great again\"\n",
    "* \"WE WILL WIN\"\n",
    "* \"Sorry losers and haters, but my I.Q. is one of the highest -and you all know it! Please don't feel so stupid or insecure,it's not your fault\"\n",
    "\n",
    "*** \n",
    "\n",
    "Who said that? Could you guess?\n",
    "\n",
    "After the recent episodes at Capitol Hill on January 6 2021, I believe that the doubt has vanished for almost everyone: **Trump is speaking**.\n",
    "\n",
    "For those not aware: the storming of the US Capitol happened in January has been a riot and violent attack against the Congress carried out by a handful of the soon to be 'former' US president Donald Trump, attempting to oveturn his defeat in the 2020 presidential elections. 5 people died in the riot and many were injured. \n",
    "\n",
    "*** \n",
    "\n",
    "When I **first thought** of working on Twitter data and, specifically, Trump's Tweets, I would have never guessed such an epilogue. It was end of October 2020 and the tycoon and Joe Biden were approaching the Presidential elections, head to head on tv, press and social media.  \n",
    "\n",
    "If any, I was expecting that by using the tweets close to Presidential elections, I would have had quite bad results in any type of modelling, due to the pollution of heavily-founded and self-centered political content. \n",
    "\n",
    "The result, however, was quite different. \n",
    "\n",
    "My predictive models turned out to not that bad (more to come in the next notebooks). On the contrary, Trump became the first president to be impeached twice in the history of United States and his social voice (Twitter, Facebook and Instagram) shut down forever. \n",
    "\n",
    "If on one side I am pleased by the decision of Twitter and Facebook/Instagram to ban/suspend Trump accounts, after having directed the violence and the riot openly on these channels (debatable, I know), on the other side I am also quite disappointed (and to a point: sad) that the community will not have more Trump data to easily access to do analytics, topic modelling and machine learning. \n",
    "\n",
    "By the time this project will be discussed, I am pretty sure that a **new chapter to this saga will be written**. \n",
    "\n",
    "***\n",
    "\n",
    "Now, getting back to the **original idea**, when all this was not even depicted in a Simpson's episode. \n",
    "\n",
    "In my career I have worked for a few years in the social media ecosphere and market research. I started back in 2015, when Facebook was still open and over the past years, I have seen the evolution of privacy and concerns in accessing this type of data (including the Instagram deprecation in its API in December 2019). For living, I was assessing brands on their social media KPIS (likes, retweets, reach, etc) and I was also working with several NLP partners to do data analytics of the brands reputation on social media.  \n",
    "\n",
    "It goes without saying that I have always wanted to do some NLP by myself and I thought this was a good chance, even though this topic was not covered in the course (consider including it!).  \n",
    "\n",
    "So, knowing the 'how' I was wondering the 'what'. By the time I approached the Proposal stage, the US political final debate exploded. It was a signal! I had to work on Trump because he is quite a character: he has a very opinionated tone of voice, style and content are unique. Surely doing NLP on Trump would have been a blast!\n",
    "\n",
    "Trump. Yeah, Trump. Trump seemed a good idea. But building a classifier on Trump's data only was not sufficient. Trump couldn't be alone. He needed a counterpart, a bit like Batman and Joker. That's when I decided to build a **classifier** to be able to predict who was talking between Trump and Biden. Brilliant!\n",
    "\n",
    "This idea however was **expanded further**. \n",
    "\n",
    "What if my classifier wouldn't have worked because it could not distinguish the speakers? Afterall both of them talk about very similar topics and discuss about very similar things. \n",
    "\n",
    "I needed to **counterbalance** this effect with someone else, not pertaining to the poltical world. \n",
    "\n",
    "That's how I introduced in the picture: \n",
    "\n",
    "* Kim Kardashian (American influencer and tv-show actress)\n",
    "* Pope Francis (the bishop of Rome, head of the Catholic Church)\n",
    "* Elon Musk (visionary entrepreneur who wants to live on Mars)\n",
    "\n",
    "Whith this final choice, the characters looked a bit more like **the Avengers** and I was good to go.  \n",
    "\n"
   ]
  },
  {
   "cell_type": "markdown",
   "metadata": {},
   "source": [
    "## IN CASE YOU DIDN'T GET IT (OR INTRO WAS TLTR)\n",
    "\n",
    "In this project I am building a classifier based on text analytics on 5 distict personas:\n",
    "\n",
    "\n",
    "* Trump\n",
    "* Biden\n",
    "* Kim Kardashian\n",
    "* The Pope\n",
    "* Elon Musk\n",
    "\n",
    "I will be using different Text Analytics techniques and Machine Learning approaches to try to find the **best ever-built model that will turn your day!**\n",
    "\n"
   ]
  },
  {
   "cell_type": "markdown",
   "metadata": {},
   "source": [
    "## HOW TO NAVIGATE THIS PROJECT \n",
    "\n",
    "The structure of the project is the following: \n",
    "\n",
    "1. 00 - Introduction (what you are reading)\n",
    "***\n",
    "2. 01 - Dataset Creation (in this notebook series I am creating datasets per each of the 5 personas, either scraping or downloading data from Internet) \n",
    "***\n",
    "3. 02 - Dataset Merging (here I am consolidating the datasets into a single one)\n",
    "***\n",
    "4. 03 - EDA (I will be investigating high level features and deriving preliminary insights on text)\n",
    "***\n",
    "5. 04 - Modelling (in this part I will be doing text analytics and applying Machine Learning)\n",
    "***\n",
    "6. 05 - Final Remarks and Potential Next steps\n",
    "***\n",
    "\n",
    "At the beginning of every notebook you will find a short description of what has been done in that specific notebook and the decisions I have taken. "
   ]
  },
  {
   "cell_type": "markdown",
   "metadata": {},
   "source": [
    "Enjoy!"
   ]
  }
 ],
 "metadata": {
  "kernelspec": {
   "display_name": "Python 3",
   "language": "python",
   "name": "python3"
  },
  "language_info": {
   "codemirror_mode": {
    "name": "ipython",
    "version": 3
   },
   "file_extension": ".py",
   "mimetype": "text/x-python",
   "name": "python",
   "nbconvert_exporter": "python",
   "pygments_lexer": "ipython3",
   "version": "3.8.3"
  }
 },
 "nbformat": 4,
 "nbformat_minor": 4
}
